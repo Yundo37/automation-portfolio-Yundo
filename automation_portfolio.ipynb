{
  "nbformat": 4,
  "nbformat_minor": 0,
  "metadata": {
    "colab": {
      "provenance": [],
      "authorship_tag": "ABX9TyP8ZIEZ1pHCht/3IlWiVoAh",
      "include_colab_link": true
    },
    "kernelspec": {
      "name": "python3",
      "display_name": "Python 3"
    },
    "language_info": {
      "name": "python"
    }
  },
  "cells": [
    {
      "cell_type": "markdown",
      "metadata": {
        "id": "view-in-github",
        "colab_type": "text"
      },
      "source": [
        "<a href=\"https://colab.research.google.com/github/Yundo37/automation-portfolio-Yundo/blob/main/automation_portfolio.ipynb\" target=\"_parent\"><img src=\"https://colab.research.google.com/assets/colab-badge.svg\" alt=\"Open In Colab\"/></a>"
      ]
    },
    {
      "cell_type": "code",
      "source": [
        "#1) 깃허브 가져오기\n",
        "!git clone https://github.com/Yundo37/automation-portfolio-Yundo.git\n",
        "%cd automation-portfolio-Yundo"
      ],
      "metadata": {
        "id": "l6lepjYDCvBs"
      },
      "execution_count": null,
      "outputs": []
    },
    {
      "cell_type": "code",
      "source": [
        "#2) 패키지 설치\n",
        "!pip install -q -r requirements.txt"
      ],
      "metadata": {
        "id": "i1yPGhuiDMN2"
      },
      "execution_count": null,
      "outputs": []
    },
    {
      "cell_type": "code",
      "source": [
        "#3) tests/ 스캐폴딩\n",
        "!mkdir -p tests reports\n",
        "%%writefile tests/__init__.py\n",
        "# empty"
      ],
      "metadata": {
        "id": "UdulCpkcDqIt"
      },
      "execution_count": null,
      "outputs": []
    },
    {
      "cell_type": "code",
      "execution_count": null,
      "metadata": {
        "id": "Bh6Hie0L5HyH"
      },
      "outputs": [],
      "source": [
        "#4) tests/test_e2e.py\n",
        "%%writefile tests/test_e2e.py\n",
        "import time\n",
        "from selenium.webdriver.common.by import By\n",
        "from pageObjects.HomePage import HomePage\n",
        "from utilities.BaseClass import BaseClass\n",
        "\n",
        "class TestOne(BaseClass):\n",
        "    def test_e2e(self):\n",
        "        log = self.getLogger()\n",
        "        print(\"[E2E] 홈 진입 및 상점 이동\")\n",
        "        homePage = HomePage(self.driver)\n",
        "        checkoutpage = homePage.shopItems()\n",
        "\n",
        "        log.info(\"getting all the product title\")\n",
        "        print(\"[E2E] 상품 목록 수집\")\n",
        "        products = checkoutpage.getProductTitles()\n",
        "\n",
        "        for product in products:\n",
        "            productName = product.find_element(By.XPATH, \"div/h4/a\").text\n",
        "            log.info(productName)\n",
        "            print(f\"[E2E] 발견한 상품: {productName}\")\n",
        "            if productName == \"Blackberry\":\n",
        "                checkoutpage.getProductFooter(product).click()\n",
        "                print(\"[E2E] Blackberry 담기 완료\")\n",
        "                break\n",
        "\n",
        "        print(\"[E2E] 카트 페이지로 이동\")\n",
        "        self.driver.find_element(By.CSS_SELECTOR, \"a[class*=btn-primary]\").click()\n",
        "\n",
        "        print(\"[E2E] 체크아웃 페이지 진입\")\n",
        "        confirmPage = checkoutpage.CheckOutItems()\n",
        "\n",
        "        log.info(\"Entering country name is ind\")\n",
        "        print(\"[E2E] 국가 입력: ind\")\n",
        "        confirmPage.enterCountry(\"ind\")\n",
        "        self.verifyLinkPresence(\"India\")\n",
        "\n",
        "        print(\"[E2E] 국가 'India' 선택 및 약관 동의\")\n",
        "        confirmPage.selectCountry().click()\n",
        "        confirmPage.checkTerms().click()\n",
        "        confirmPage.submitOrder().click()\n",
        "\n",
        "        successText = confirmPage.getSuccessMessage()\n",
        "        log.info(\"Text received from application is\" + successText)\n",
        "        print(f\"[E2E] 완료 메시지: {successText}\")\n",
        "        assert \"Success! Thank you!\" in successText\n",
        "        time.sleep(1)"
      ]
    },
    {
      "cell_type": "code",
      "source": [
        "#5) tests/test_HomePage.py (의도적 fail 1건)\n",
        "%%writefile tests/test_HomePage.py\n",
        "import pytest\n",
        "from pageObjects.HomePage import HomePage\n",
        "from testData.HomePageData import HomePageData\n",
        "from utilities.BaseClass import BaseClass\n",
        "\n",
        "class TestHomePage(BaseClass):\n",
        "    def test_formSubmission(self, getData):\n",
        "        log = self.getLogger()\n",
        "        homepage = HomePage(self.driver)\n",
        "\n",
        "        print(f\"[FORM] 입력 시작: {getData}\")\n",
        "        log.info(\"user name is\" + getData[\"username\"])\n",
        "\n",
        "        homepage.getName().send_keys(getData[\"username\"])\n",
        "        homepage.getEmail().send_keys(getData[\"email\"])\n",
        "        homepage.getPassword().send_keys(\"123456\")\n",
        "        homepage.selectCheckbox().click()\n",
        "        homepage.selectEmploymentStatus().click()\n",
        "        self.selectOptionByText(homepage.getGenderDropdown(), getData[\"gender\"])\n",
        "        self.selectOptionByIndex(homepage.getGenderDropdown(), 0)\n",
        "\n",
        "        homepage.submitForm().click()\n",
        "        message = homepage.getSuccessMessage()\n",
        "        print(f\"[FORM] 성공 메시지: {message}\")\n",
        "\n",
        "        if getData[\"username\"] == \"OB\":           # 데모용 실패\n",
        "            print(\"[FORM] 데모용 실패 트리거\")\n",
        "            assert \"ThisShouldFail\" in message\n",
        "        else:\n",
        "            assert \"Success\" in message\n",
        "\n",
        "        self.driver.refresh()\n",
        "\n",
        "    @pytest.fixture(params=HomePageData.test_Homepage_data)\n",
        "    def getData(self, request):\n",
        "        return request.param"
      ],
      "metadata": {
        "id": "2JjiKflu_tAW"
      },
      "execution_count": null,
      "outputs": []
    },
    {
      "cell_type": "code",
      "source": [
        "6) tests/conftest.py (헤드리스 + Base64 스크린샷 인라인)\n",
        "%%writefile tests/conftest.py\n",
        "import os, base64, pytest\n",
        "from selenium import webdriver\n",
        "from selenium.webdriver.chrome.service import Service as ChromeService\n",
        "from selenium.webdriver.chrome.options import Options as ChromeOptions\n",
        "from webdriver_manager.chrome import ChromeDriverManager\n",
        "\n",
        "driver = None\n",
        "\n",
        "def pytest_addoption(parser):\n",
        "    parser.addoption(\"--browser_name\", action=\"store\", default=\"chrome\")\n",
        "\n",
        "@pytest.fixture(scope=\"class\")\n",
        "def setup(request):\n",
        "    global driver\n",
        "    browser_name = request.config.getoption(\"browser_name\")\n",
        "    if browser_name == \"chrome\":\n",
        "        service_obj = ChromeService(ChromeDriverManager().install())\n",
        "        options = ChromeOptions()\n",
        "        options.add_argument(\"--headless=new\")\n",
        "        options.add_argument(\"--no-sandbox\")\n",
        "        options.add_argument(\"--disable-dev-shm-usage\")\n",
        "        driver = webdriver.Chrome(service=service_obj, options=options)\n",
        "    else:\n",
        "        raise RuntimeError(\"Only chrome supported in Colab\")\n",
        "\n",
        "    driver.get(\"https://rahulshettyacademy.com/angularpractice/\")\n",
        "    driver.implicitly_wait(5)\n",
        "    driver.maximize_window()\n",
        "\n",
        "    request.cls.driver = driver\n",
        "    yield\n",
        "    driver.close()\n",
        "\n",
        "@pytest.mark.hookwrapper\n",
        "def pytest_runtest_makereport(item):\n",
        "    pytest_html = item.config.pluginmanager.getplugin('html')\n",
        "    outcome = yield\n",
        "    report = outcome.get_result()\n",
        "    extra = getattr(report, 'extra', [])\n",
        "\n",
        "    if report.when in ('call','setup'):\n",
        "        xfail = hasattr(report, 'wasxfail')\n",
        "        if (report.skipped and xfail) or (report.failed and not xfail):\n",
        "            file_name = report.nodeid.replace(\"::\", \"_\") + \".png\"\n",
        "            file_path = os.path.join(\"reports\", file_name)\n",
        "            _capture_screenshot(file_path)\n",
        "            with open(file_path, \"rb\") as f:\n",
        "                b64 = base64.b64encode(f.read()).decode()\n",
        "            html = (\n",
        "                f'<div><img src=\"data:image/png;base64,{b64}\" alt=\"screenshot\" '\n",
        "                f'style=\"width:304px;height:228px;\" '\n",
        "                f'onclick=\"window.open(this.src)\" align=\"right\"/></div>'\n",
        "            )\n",
        "            extra.append(pytest_html.extras.html(html))\n",
        "    report.extra = extra\n",
        "\n",
        "def _capture_screenshot(path):\n",
        "    os.makedirs(os.path.dirname(path), exist_ok=True)\n",
        "    driver.get_screenshot_as_file(path)"
      ],
      "metadata": {
        "id": "r0BhcRJR_yUn"
      },
      "execution_count": null,
      "outputs": []
    },
    {
      "cell_type": "code",
      "source": [
        "#7) 실행 및 리포트 생성 (HTML + 스크린샷)\n",
        "# 1) 테스트 실행 & HTML 리포트 생성\n",
        "!pytest -q --html=reports/report.html --self-contained-html\n",
        "\n",
        "# 2) HTML 리포트 보기\n",
        "from IPython.display import IFrame, Image, display\n",
        "import glob\n",
        "\n",
        "print(\"\\n=== 📄 HTML 리포트 ===\")\n",
        "display(IFrame(src='reports/report.html', width='100%', height=600))\n",
        "\n",
        "# 3) 실패 스크린샷 원본 보기 (있을 경우)\n",
        "png_files = glob.glob('reports/*.png')\n",
        "if png_files:\n",
        "    print(\"\\n=== 🖼 실패 스크린샷 원본 ===\")\n",
        "    for img_path in png_files:\n",
        "        display(Image(filename=img_path))\n",
        "else:\n",
        "    print(\"\\n(실패 스크린샷 없음)\")"
      ],
      "metadata": {
        "id": "aUhPAawREe86"
      },
      "execution_count": null,
      "outputs": []
    }
  ]
}