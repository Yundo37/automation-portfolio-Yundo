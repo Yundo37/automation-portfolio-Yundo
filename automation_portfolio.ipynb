{
  "nbformat": 4,
  "nbformat_minor": 0,
  "metadata": {
    "colab": {
      "provenance": [],
      "authorship_tag": "ABX9TyMc00779v4osPLZfguAupHi",
      "include_colab_link": true
    },
    "kernelspec": {
      "name": "python3",
      "display_name": "Python 3"
    },
    "language_info": {
      "name": "python"
    }
  },
  "cells": [
    {
      "cell_type": "markdown",
      "metadata": {
        "id": "view-in-github",
        "colab_type": "text"
      },
      "source": [
        "<a href=\"https://colab.research.google.com/github/Yundo37/automation-portfolio-Yundo/blob/main/automation_portfolio.ipynb\" target=\"_parent\"><img src=\"https://colab.research.google.com/assets/colab-badge.svg\" alt=\"Open In Colab\"/></a>"
      ]
    },
    {
      "cell_type": "code",
      "source": [
        "# ==================================================================\n",
        "# 💡Colab 실행 안내\n",
        "#\n",
        "# ⚠️ 처음 실행 시 \"Google에서 작성하지 않음\" 경고가 뜰 수 있습니다.\n",
        "#    '무시하고 계속하기'를 클릭하면 정상적으로 실행됩니다.\n",
        "#\n",
        "# - \"모두 실행\" 버튼을 누르면 전체 코드가 자동 실행됩니다.\n",
        "# - 설치되는 Chrome 및 패키지는 Colab 환경에만 적용되며,\n",
        "#   사용자의 로컬 PC에는 어떠한 영향도 없습니다.\n",
        "# - 실행 완료 후 마지막 셀에서 HTML 리포트(report.html)가\n",
        "#   Colab 화면에 바로 표시됩니다. (별도 파일 열 필요 없음)\n",
        "# ==================================================================="
      ],
      "metadata": {
        "id": "M7Wn0Cdj7Z8Y"
      },
      "execution_count": null,
      "outputs": []
    },
    {
      "cell_type": "code",
      "source": [
        "# 1. 환경 세팅 (Colab 전용)\n",
        "# Colab 초기화: 이전 실행 내용 제거 + 필수 폴더 재생성\n",
        "!rm -rf pageObjects utilities testData tests reports temp_repo\n",
        "!mkdir -p pageObjects utilities testData tests reports\n",
        "\n",
        "# Chrome + 필요한 패키지 설치\n",
        "!wget -q https://dl.google.com/linux/direct/google-chrome-stable_current_amd64.deb\n",
        "!dpkg -i google-chrome-stable_current_amd64.deb || apt-get -fy install\n",
        "!pip install -q selenium pytest pytest-html webdriver-manager\n",
        "\n",
        "# GitHub에서 모듈 코드만 가져오기 (temp_repo 사용)\n",
        "!git clone https://github.com/Yundo37/automation-portfolio-Yundo.git temp_repo\n",
        "!cp -r temp_repo/pageObjects/* pageObjects/\n",
        "!cp -r temp_repo/utilities/* utilities/\n",
        "!cp -r temp_repo/testData/* testData/\n",
        "!cp    temp_repo/tests/conftest.py tests/\n",
        "!rm -rf temp_repo\n",
        "\n",
        "# __init__.py 생성으로 패키지 인식\n",
        "for d in [\"pageObjects\", \"utilities\", \"testData\", \"tests\"]:\n",
        "    open(f\"{d}/__init__.py\", \"w\").close()\n",
        "\n",
        "# sys.path에 경로 등록\n",
        "import sys, os\n",
        "sys.path += [os.path.abspath(p) for p in [\".\", \"pageObjects\", \"utilities\", \"testData\", \"tests\"]]\n",
        "\n",
        "# 간단한 점검\n",
        "import importlib.util\n",
        "print(\"== 코드 임포트 확인 ==\")\n",
        "print(\"pageObjects.HomePage:\", importlib.util.find_spec(\"pageObjects.HomePage\") is not None)\n",
        "print(\"utilities.BaseClass:\", importlib.util.find_spec(\"utilities.BaseClass\") is not None)\n",
        "print(\"testData.HomePageData:\", importlib.util.find_spec(\"testData.HomePageData\") is not None)\n",
        "print(\"\\n✅ 초기화 완료\")"
      ],
      "metadata": {
        "id": "l6lepjYDCvBs"
      },
      "execution_count": null,
      "outputs": []
    },
    {
      "cell_type": "code",
      "source": [
        "# 2. tests/test_e2e.py\n",
        "%%writefile tests/test_e2e.py\n",
        "import pytest\n",
        "import time\n",
        "from selenium.webdriver.common.by import By\n",
        "from selenium.webdriver.support.ui import WebDriverWait\n",
        "from selenium.webdriver.support import expected_conditions as EC\n",
        "from pageObjects.HomePage import HomePage\n",
        "\n",
        "@pytest.mark.usefixtures(\"setup\")\n",
        "class TestOne:\n",
        "\n",
        "    def test_e2e(self):\n",
        "        print(\"E2E 테스트 시작\")\n",
        "        homePage = HomePage(self.driver)\n",
        "        checkoutPage = homePage.shopItems()\n",
        "        print(\"상품 목록 조회\")\n",
        "\n",
        "        products = checkoutPage.getProductTitles()\n",
        "        for product in products:\n",
        "            productName = product.find_element(By.XPATH, \"div/h4/a\").text\n",
        "            print(\"상품명:\", productName)\n",
        "            if productName == \"Blackberry\":\n",
        "                checkoutPage.getProductFooter(product).click()\n",
        "                print(\"Blackberry 장바구니에 담기 완료\")\n",
        "                break\n",
        "\n",
        "        # ✅ checkout 버튼 수동 클릭 (JS + scrollIntoView)\n",
        "        wait = WebDriverWait(self.driver, 10)\n",
        "        cart_btn = self.driver.find_element(By.CSS_SELECTOR, \"a[class*=btn-primary]\")\n",
        "        self.driver.execute_script(\"arguments[0].scrollIntoView(true);\", cart_btn)\n",
        "        time.sleep(1)\n",
        "        self.driver.execute_script(\"arguments[0].click();\", cart_btn)\n",
        "        print(\"장바구니 페이지로 이동\")\n",
        "\n",
        "        # ✅ checkoutpage.CheckOutItems() → btn-success 클릭\n",
        "        confirmPage = checkoutPage.CheckOutItems()\n",
        "        print(\"결제 페이지로 이동\")\n",
        "\n",
        "        confirmPage.enterCountry(\"India\")\n",
        "        self.verifyLinkPresence(\"India\")\n",
        "        confirmPage.selectCountry().click()\n",
        "        confirmPage.checkTerms().click()\n",
        "        confirmPage.submitOrder().click()\n",
        "\n",
        "        successText = confirmPage.getSuccessMessage()\n",
        "        print(\"최종 결과:\", successText)\n",
        "        assert \"Success\" in successText\n",
        "\n",
        "    def verifyLinkPresence(self, text):\n",
        "        wait = WebDriverWait(self.driver, 10)\n",
        "        wait.until(EC.presence_of_element_located((By.LINK_TEXT, text)))"
      ],
      "metadata": {
        "id": "i1yPGhuiDMN2"
      },
      "execution_count": null,
      "outputs": []
    },
    {
      "cell_type": "code",
      "source": [
        "# 3. tests/test_HomePage.py\n",
        "%%writefile tests/test_HomePage.py\n",
        "import pytest\n",
        "\n",
        "from pageObjects.HomePage import HomePage\n",
        "from testData.HomePageData import HomePageData\n",
        "from utilities.BaseClass import BaseClass\n",
        "\n",
        "class TestHomePage(BaseClass):\n",
        "\n",
        "    def test_formSubmission(self, getData):\n",
        "        print(\"폼 제출 테스트 시작\")\n",
        "        homepage = HomePage(self.driver)\n",
        "        print(\"입력 데이터:\", getData)\n",
        "\n",
        "        homepage.getName().send_keys(getData[\"username\"])\n",
        "        homepage.getEmail().send_keys(getData[\"email\"])\n",
        "        homepage.getPassword().send_keys(\"123456\")\n",
        "        homepage.selectCheckbox().click()\n",
        "        homepage.selectEmploymentStatus().click()\n",
        "\n",
        "        self.selectOptionByText(homepage.getGenderDropdown(), getData[\"gender\"])\n",
        "        self.selectOptionByIndex(homepage.getGenderDropdown(), 0)\n",
        "\n",
        "        homepage.submitForm().click()\n",
        "        message = homepage.getSuccessMessage()\n",
        "        print(\"폼 제출 결과:\", message)\n",
        "\n",
        "        # ✅ 의도적 실패 1건만 발생: 첫 데이터셋(username == \"YB\")만 실패\n",
        "        if getData.get(\"username\") == \"YB\":\n",
        "            assert \"Success123\" in message  # 일부러 실패\n",
        "        else:\n",
        "            assert \"Success\" in message     # 정상 검증\n",
        "\n",
        "        self.driver.refresh()\n",
        "\n",
        "    @pytest.fixture(params=HomePageData.test_Homepage_data)\n",
        "    def getData(self, request):\n",
        "        return request.param"
      ],
      "metadata": {
        "id": "UdulCpkcDqIt"
      },
      "execution_count": null,
      "outputs": []
    },
    {
      "cell_type": "code",
      "execution_count": null,
      "metadata": {
        "id": "Bh6Hie0L5HyH"
      },
      "outputs": [],
      "source": [
        "# 4. 테스트 실행 + HTML 리포트 실시간 출력 보기\n",
        "\n",
        "import sys\n",
        "import os\n",
        "sys.path.append(os.path.abspath(\".\"))  # 현재 Colab 작업 디렉토리 등록\n",
        "\n",
        "import subprocess\n",
        "from IPython.display import display, HTML\n",
        "\n",
        "print(\"========== [테스트 실행 로그 출력] ==========\")\n",
        "\n",
        "# ✅ 실시간 출력 위해 Popen 사용\n",
        "with subprocess.Popen(\n",
        "    [\"pytest\", \"-s\", \"tests/test_e2e.py\", \"tests/test_HomePage.py\", \"--html=reports/report.html\", \"--self-contained-html\"],\n",
        "    stdout=subprocess.PIPE,\n",
        "    stderr=subprocess.STDOUT,\n",
        "    text=True,\n",
        "    bufsize=1\n",
        ") as proc:\n",
        "    for line in proc.stdout:\n",
        "        print(line, end=\"\")  # 실시간 출력\n",
        "\n",
        "# ✅ HTML 리포트 Colab에서 바로 보기\n",
        "with open(\"reports/report.html\", \"r\", encoding=\"utf-8\") as f:\n",
        "    html_content = f.read()\n",
        "display(HTML(html_content))"
      ]
    }
  ]
}