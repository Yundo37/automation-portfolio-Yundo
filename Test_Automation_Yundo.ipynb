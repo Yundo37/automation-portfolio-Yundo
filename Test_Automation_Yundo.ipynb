{
  "nbformat": 4,
  "nbformat_minor": 0,
  "metadata": {
    "colab": {
      "provenance": [],
      "authorship_tag": "ABX9TyNZye0+EQqcn9WjGfrO6/NI",
      "include_colab_link": true
    },
    "kernelspec": {
      "name": "python3",
      "display_name": "Python 3"
    },
    "language_info": {
      "name": "python"
    }
  },
  "cells": [
    {
      "cell_type": "markdown",
      "metadata": {
        "id": "view-in-github",
        "colab_type": "text"
      },
      "source": [
        "<a href=\"https://colab.research.google.com/github/Yundo37/automation-portfolio-Yundo/blob/main/Test_Automation_Yundo.ipynb\" target=\"_parent\"><img src=\"https://colab.research.google.com/assets/colab-badge.svg\" alt=\"Open In Colab\"/></a>"
      ]
    },
    {
      "cell_type": "code",
      "source": [
        "!apt-get update -y\n",
        "!apt-get install -y chromium-browser chromium-chromedriver\n",
        "!pip -q -U pip\n"
      ],
      "metadata": {
        "id": "MKws_i0Zrk1N"
      },
      "execution_count": null,
      "outputs": []
    },
    {
      "cell_type": "code",
      "source": [
        "!git clone https://github.com/Yundo37/automation-portfolio-Yundo.git workdir\n",
        "%cd workdir\n",
        "!pip -q install -r requirements.txt\n"
      ],
      "metadata": {
        "id": "fXPFTwjprl2U"
      },
      "execution_count": null,
      "outputs": []
    },
    {
      "cell_type": "code",
      "source": [
        "!pytest -q --capture=tee-sys --disable-warnings --maxfail=1 \\\n",
        "  --html=report.html --self-contained-html\n"
      ],
      "metadata": {
        "id": "h6v-b1oKr-kc"
      },
      "execution_count": null,
      "outputs": []
    },
    {
      "cell_type": "code",
      "source": [
        "from google.colab import files\n",
        "files.download('report.html')\n"
      ],
      "metadata": {
        "id": "KJJi_XD_sAaz"
      },
      "execution_count": null,
      "outputs": []
    }
  ]
}