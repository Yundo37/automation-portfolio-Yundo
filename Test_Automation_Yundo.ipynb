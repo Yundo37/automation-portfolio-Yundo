{
  "nbformat": 4,
  "nbformat_minor": 0,
  "metadata": {
    "colab": {
      "provenance": [],
      "authorship_tag": "ABX9TyOvmSqL/oxaC9/Y/pq1xDl3",
      "include_colab_link": true
    },
    "kernelspec": {
      "name": "python3",
      "display_name": "Python 3"
    },
    "language_info": {
      "name": "python"
    }
  },
  "cells": [
    {
      "cell_type": "markdown",
      "metadata": {
        "id": "view-in-github",
        "colab_type": "text"
      },
      "source": [
        "<a href=\"https://colab.research.google.com/github/Yundo37/automation-portfolio-Yundo/blob/main/Test_Automation_Yundo.ipynb\" target=\"_parent\"><img src=\"https://colab.research.google.com/assets/colab-badge.svg\" alt=\"Open In Colab\"/></a>"
      ]
    },
    {
      "cell_type": "code",
      "source": [
        "!apt-get update -y\n",
        "!apt-get install -y chromium-browser chromium-chromedriver\n",
        "print(\"✅ Chrome 설치 완료!\")\n"
      ],
      "metadata": {
        "id": "MKws_i0Zrk1N"
      },
      "execution_count": null,
      "outputs": []
    },
    {
      "cell_type": "code",
      "source": [
        "# GitHub 레포 클론\n",
        "!git clone https://github.com/Yundo37/automation-portfolio-Yundo.git workdir\n",
        "\n",
        "# 작업 디렉토리로 이동\n",
        "%cd workdir\n",
        "\n",
        "# 필요한 라이브러리 설치\n",
        "!pip install selenium pytest pytest-html\n",
        "\n",
        "print(\"✅ 레포 클론 및 라이브러리 설치 완료!\")"
      ],
      "metadata": {
        "id": "VdbvXpUHytCw"
      },
      "execution_count": null,
      "outputs": []
    },
    {
      "cell_type": "code",
      "source": [
        "# 파일 구조 확인\n",
        "!ls -la\n",
        "print(\"현재 디렉토리:\", %pwd)\n"
      ],
      "metadata": {
        "id": "h6v-b1oKr-kc"
      },
      "execution_count": null,
      "outputs": []
    },
    {
      "cell_type": "code",
      "source": [
        "# 테스트 실행\n",
        "!pytest -v --tb=short --html=report.html --self-contained-html --browser_name=chrome\n",
        "\n",
        "print(\"✅ 테스트 실행 완료!\")\n"
      ],
      "metadata": {
        "id": "KJJi_XD_sAaz"
      },
      "execution_count": null,
      "outputs": []
    },
    {
      "cell_type": "code",
      "source": [
        "# 리포트 파일 존재 확인\n",
        "!ls -la *.html\n",
        "\n",
        "# 리포트 내용 Colab에서 바로 보기\n",
        "try:\n",
        "    from IPython.display import HTML\n",
        "    with open('report.html', 'r', encoding='utf-8') as f:\n",
        "        display(HTML(f.read()))\n",
        "    print(\"✅ 리포트 로딩 완료!\")\n",
        "except FileNotFoundError:\n",
        "    print(\"❌ report.html 파일을 찾을 수 없습니다.\")\n",
        "    print(\"pytest 실행이 성공했는지 확인해주세요.\")"
      ],
      "metadata": {
        "id": "EJFo_n9BzJKy"
      },
      "execution_count": null,
      "outputs": []
    }
  ]
}